{
 "cells": [
  {
   "cell_type": "markdown",
   "metadata": {},
   "source": [
    "# Add Entries to Database"
   ]
  },
  {
   "cell_type": "markdown",
   "metadata": {},
   "source": [
    "## 1. Start SLAPD"
   ]
  },
  {
   "cell_type": "markdown",
   "metadata": {},
   "source": [
    "Validate `slapd.conf`."
   ]
  },
  {
   "cell_type": "code",
   "execution_count": 1,
   "metadata": {},
   "outputs": [
    {
     "name": "stdout",
     "output_type": "stream",
     "text": [
      "config file testing succeeded\n"
     ]
    }
   ],
   "source": [
    "! slaptest -u -f slapd.conf"
   ]
  },
  {
   "cell_type": "markdown",
   "metadata": {},
   "source": [
    "Kill old SLAPDs."
   ]
  },
  {
   "cell_type": "code",
   "execution_count": 2,
   "metadata": {},
   "outputs": [],
   "source": [
    "! killall slapd"
   ]
  },
  {
   "cell_type": "markdown",
   "metadata": {},
   "source": [
    "Start SLAPD."
   ]
  },
  {
   "cell_type": "code",
   "execution_count": 3,
   "metadata": {},
   "outputs": [],
   "source": [
    "! slapd -f slapd.conf -h ldap://localhost:9011"
   ]
  },
  {
   "cell_type": "markdown",
   "metadata": {},
   "source": [
    "Check if SLAPD is running."
   ]
  },
  {
   "cell_type": "code",
   "execution_count": 4,
   "metadata": {},
   "outputs": [
    {
     "name": "stdout",
     "output_type": "stream",
     "text": [
      "slapd     132126            root    7u  IPv6 514649      0t0  TCP [::1]:9011 (LISTEN)\n",
      "slapd     132126            root    8u  IPv4 514650      0t0  TCP 127.0.0.1:9011 (LISTEN)\n"
     ]
    }
   ],
   "source": [
    "! lsof -P -i -n | grep slapd"
   ]
  },
  {
   "cell_type": "markdown",
   "metadata": {},
   "source": [
    "## 2. Add Entries"
   ]
  },
  {
   "cell_type": "markdown",
   "metadata": {},
   "source": [
    "Validate `data.ldif` before adding it's entries to database."
   ]
  },
  {
   "cell_type": "code",
   "execution_count": 5,
   "metadata": {},
   "outputs": [
    {
     "name": "stdout",
     "output_type": "stream",
     "text": [
      "add objectclass:\n",
      "\ttop\n",
      "\torganization\n",
      "\tdcobject\n",
      "add o:\n",
      "\tExample, Inc.\n",
      "add description:\n",
      "\tThe Example, Inc. at Anytown.\n",
      "!adding new entry \"dc=example,dc=com\"\n",
      "\n"
     ]
    }
   ],
   "source": [
    "! ldapmodify -a -v -n -f data.ldif"
   ]
  },
  {
   "cell_type": "markdown",
   "metadata": {},
   "source": [
    "Add entries to database."
   ]
  },
  {
   "cell_type": "code",
   "execution_count": 6,
   "metadata": {},
   "outputs": [
    {
     "name": "stdout",
     "output_type": "stream",
     "text": [
      "adding new entry \"dc=example,dc=com\"\n",
      "ldap_add: Already exists (68)\n",
      "\n"
     ]
    }
   ],
   "source": [
    "! ldapmodify -a -P 3 -x  -D 'cn=Manager,dc=example,dc=com' -H ldap://localhost:9011/ -w secret -f data.ldif"
   ]
  },
  {
   "cell_type": "markdown",
   "metadata": {},
   "source": [
    "## 3. Search"
   ]
  },
  {
   "cell_type": "code",
   "execution_count": 7,
   "metadata": {},
   "outputs": [
    {
     "name": "stdout",
     "output_type": "stream",
     "text": [
      "dn: dc=example,dc=com\n",
      "objectClass: top\n",
      "objectClass: organization\n",
      "objectClass: dcObject\n",
      "o: Example, Inc.\n",
      "description: The Example, Inc. at Anytown.\n",
      "dc: example\n",
      "\n"
     ]
    }
   ],
   "source": [
    "! ldapsearch -x -H ldap://localhost:9011 -LLL -b \"dc=example,dc=com\" "
   ]
  }
 ],
 "metadata": {
  "kernelspec": {
   "display_name": "Python 3 (ipykernel)",
   "language": "python",
   "name": "python3"
  },
  "language_info": {
   "codemirror_mode": {
    "name": "ipython",
    "version": 3
   },
   "file_extension": ".py",
   "mimetype": "text/x-python",
   "name": "python",
   "nbconvert_exporter": "python",
   "pygments_lexer": "ipython3",
   "version": "3.12.2"
  }
 },
 "nbformat": 4,
 "nbformat_minor": 2
}
