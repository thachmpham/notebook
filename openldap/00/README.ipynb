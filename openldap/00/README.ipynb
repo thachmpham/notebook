{
 "cells": [
  {
   "cell_type": "code",
   "execution_count": null,
   "metadata": {},
   "outputs": [],
   "source": [
    "! dnf groupinstall \"Development Tools\""
   ]
  },
  {
   "cell_type": "code",
   "execution_count": null,
   "metadata": {},
   "outputs": [],
   "source": [
    "! ./configure --prefix=/root/build/openldap --enable-null=yes\n",
    "! make depend\n",
    "! make\n",
    "! make test\n",
    "! make install"
   ]
  },
  {
   "cell_type": "code",
   "execution_count": null,
   "metadata": {},
   "outputs": [],
   "source": [
    "PATH=$PATH:/root/build/openldap/bin\n",
    "PATH=$PATH:/root/build/openldap/libexec\n",
    "PATH=$PATH:/root/build/openldap/sbin\n",
    "\n",
    "export PATH"
   ]
  },
  {
   "cell_type": "code",
   "execution_count": null,
   "metadata": {},
   "outputs": [],
   "source": [
    "! cd tests && ./run test000-rootdse"
   ]
  }
 ],
 "metadata": {
  "language_info": {
   "name": "python"
  }
 },
 "nbformat": 4,
 "nbformat_minor": 2
}
