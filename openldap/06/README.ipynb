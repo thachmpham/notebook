{
 "cells": [
  {
   "cell_type": "markdown",
   "metadata": {},
   "source": [
    "# Setup Slapd"
   ]
  },
  {
   "cell_type": "markdown",
   "metadata": {},
   "source": [
    "Validate `slapd.conf`"
   ]
  },
  {
   "cell_type": "code",
   "execution_count": 1,
   "metadata": {},
   "outputs": [
    {
     "name": "stdout",
     "output_type": "stream",
     "text": [
      "config file testing succeeded\n"
     ]
    }
   ],
   "source": [
    "! slaptest -u -f slapd.conf"
   ]
  },
  {
   "cell_type": "markdown",
   "metadata": {},
   "source": [
    "Start Slapd."
   ]
  },
  {
   "cell_type": "code",
   "execution_count": 10,
   "metadata": {},
   "outputs": [
    {
     "name": "stdout",
     "output_type": "stream",
     "text": [
      "slapd: no process found\n"
     ]
    }
   ],
   "source": [
    "! killall slapd"
   ]
  },
  {
   "cell_type": "code",
   "execution_count": 11,
   "metadata": {},
   "outputs": [],
   "source": [
    "! slapd -f slapd.conf -h ldap://localhost:9011"
   ]
  },
  {
   "cell_type": "markdown",
   "metadata": {},
   "source": [
    "Check if Slapd is running."
   ]
  },
  {
   "cell_type": "code",
   "execution_count": 12,
   "metadata": {},
   "outputs": [
    {
     "name": "stdout",
     "output_type": "stream",
     "text": [
      "slapd     3103            root    7u  IPv6  21187      0t0  TCP [::1]:9011 (LISTEN)\n",
      "slapd     3103            root    8u  IPv4  21188      0t0  TCP 127.0.0.1:9011 (LISTEN)\n"
     ]
    }
   ],
   "source": [
    "! lsof -P -i -n | grep slapd"
   ]
  },
  {
   "cell_type": "markdown",
   "metadata": {},
   "source": [
    "# SlapModRdn"
   ]
  },
  {
   "cell_type": "markdown",
   "metadata": {},
   "source": [
    "Show original info of entry `cn=James A Jones 1`."
   ]
  },
  {
   "cell_type": "code",
   "execution_count": 17,
   "metadata": {},
   "outputs": [
    {
     "name": "stdout",
     "output_type": "stream",
     "text": [
      "dn: cn=Nothing\n",
      "cn: nothing\n",
      "objectClass: extensibleObject\n",
      "\n"
     ]
    }
   ],
   "source": [
    "! ldapsearch -x -LLL -b 'cn=Nothing' -H ldap://localhost:9011/"
   ]
  },
  {
   "cell_type": "markdown",
   "metadata": {},
   "source": [
    "Change cn of entry: `cn=James A Jones 1` --> `cn=James A Jones X`"
   ]
  },
  {
   "cell_type": "code",
   "execution_count": 4,
   "metadata": {},
   "outputs": [],
   "source": [
    "! ldapmodrdn -x -D cn=Manager,dc=example,dc=com -H ldap://localhost:9011/ -w secret 'cn=James A Jones 1, ou=Alumni Association, ou=People, dc=example, dc=com' 'cn=James A Jones X'"
   ]
  },
  {
   "cell_type": "markdown",
   "metadata": {},
   "source": [
    "Check if cn of the entry is changed."
   ]
  },
  {
   "cell_type": "code",
   "execution_count": 6,
   "metadata": {},
   "outputs": [
    {
     "name": "stdout",
     "output_type": "stream",
     "text": [
      "dn: cn=James A Jones X,ou=Alumni Association,ou=People,dc=example,dc=com\n",
      "objectClass: OpenLDAPperson\n",
      "cn: James A Jones 1\n",
      "cn: James Jones\n",
      "cn: Jim Jones\n",
      "cn: James A Jones X\n",
      "sn: Jones\n",
      "uid: jaj\n",
      "postalAddress: Alumni Association $ 111 Maple St $ Anytown, MI 48109\n",
      "seeAlso: cn=All Staff,ou=Groups,dc=example,dc=com\n",
      "userPassword:: amFq\n",
      "homePostalAddress: 3882 Beverly Rd. $ Anytown, MI 48105\n",
      "homePhone: +1 313 555 4772\n",
      "description: Outstanding\n",
      "title: Mad Cow Researcher, UM Alumni Association\n",
      "pager: +1 313 555 3923\n",
      "mail: jaj@mail.alumni.example.com\n",
      "facsimileTelephoneNumber: +1 313 555 4332\n",
      "telephoneNumber: +1 313 555 0895\n",
      "\n"
     ]
    }
   ],
   "source": [
    "! ldapsearch -P 3 -x -LLL -S '' -b dc=example,dc=com -H ldap://localhost:9011/ 'cn=James A Jones X'"
   ]
  },
  {
   "cell_type": "markdown",
   "metadata": {},
   "source": [
    "Revert cn of the entry to original."
   ]
  },
  {
   "cell_type": "code",
   "execution_count": 8,
   "metadata": {},
   "outputs": [],
   "source": [
    "! ldapmodrdn -P 3 -x -D cn=Manager,dc=example,dc=com -r -H ldap://localhost:9011/ -w secret 'cn=James A Jones X, ou=Alumni Association, ou=People, dc=example, dc=com' 'cn=James A Jones 1'"
   ]
  },
  {
   "cell_type": "markdown",
   "metadata": {},
   "source": [
    "Check if the cn is reverted."
   ]
  },
  {
   "cell_type": "code",
   "execution_count": 10,
   "metadata": {},
   "outputs": [
    {
     "name": "stdout",
     "output_type": "stream",
     "text": [
      "dn: cn=James A Jones 1,ou=Alumni Association,ou=People,dc=example,dc=com\n",
      "objectClass: OpenLDAPperson\n",
      "cn: James A Jones 1\n",
      "cn: James Jones\n",
      "cn: Jim Jones\n",
      "sn: Jones\n",
      "uid: jaj\n",
      "postalAddress: Alumni Association $ 111 Maple St $ Anytown, MI 48109\n",
      "seeAlso: cn=All Staff,ou=Groups,dc=example,dc=com\n",
      "userPassword:: amFq\n",
      "homePostalAddress: 3882 Beverly Rd. $ Anytown, MI 48105\n",
      "homePhone: +1 313 555 4772\n",
      "description: Outstanding\n",
      "title: Mad Cow Researcher, UM Alumni Association\n",
      "pager: +1 313 555 3923\n",
      "mail: jaj@mail.alumni.example.com\n",
      "facsimileTelephoneNumber: +1 313 555 4332\n",
      "telephoneNumber: +1 313 555 0895\n",
      "\n"
     ]
    }
   ],
   "source": [
    "! ldapsearch -P 3 -x -LLL -S '' -b dc=example,dc=com -H ldap://localhost:9011/ 'cn=James A Jones 1'"
   ]
  }
 ],
 "metadata": {
  "kernelspec": {
   "display_name": "Python 3 (ipykernel)",
   "language": "python",
   "name": "python3"
  },
  "language_info": {
   "codemirror_mode": {
    "name": "ipython",
    "version": 3
   },
   "file_extension": ".py",
   "mimetype": "text/x-python",
   "name": "python",
   "nbconvert_exporter": "python",
   "pygments_lexer": "ipython3",
   "version": "3.12.2"
  }
 },
 "nbformat": 4,
 "nbformat_minor": 2
}
