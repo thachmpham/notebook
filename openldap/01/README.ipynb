{
 "cells": [
  {
   "cell_type": "code",
   "execution_count": 1,
   "metadata": {},
   "outputs": [
    {
     "name": "stdout",
     "output_type": "stream",
     "text": [
      "/root/notebook/tools/openldap/01\n"
     ]
    }
   ],
   "source": [
    "! pwd"
   ]
  },
  {
   "cell_type": "code",
   "execution_count": 2,
   "metadata": {},
   "outputs": [
    {
     "name": "stdout",
     "output_type": "stream",
     "text": [
      ".\n",
      "./rootdse.ldif\n",
      "./notebook.ipynb\n",
      "./slapd.conf\n",
      "./db\n",
      "./slapd.pid\n",
      "./slapd.args\n"
     ]
    }
   ],
   "source": [
    "! find ."
   ]
  },
  {
   "cell_type": "code",
   "execution_count": 3,
   "metadata": {},
   "outputs": [],
   "source": [
    "! rm -f db/*"
   ]
  },
  {
   "cell_type": "code",
   "execution_count": 4,
   "metadata": {},
   "outputs": [],
   "source": [
    "! killall slapd"
   ]
  },
  {
   "cell_type": "code",
   "execution_count": 5,
   "metadata": {},
   "outputs": [],
   "source": [
    "! slapd -s0 -f slapd.conf -h ldap://localhost:9011/"
   ]
  },
  {
   "cell_type": "code",
   "execution_count": 6,
   "metadata": {},
   "outputs": [
    {
     "name": "stdout",
     "output_type": "stream",
     "text": [
      "COMMAND    PID USER   FD   TYPE DEVICE SIZE/OFF NODE NAME\n",
      "slapd   120064 root    7u  IPv6 367041      0t0  TCP localhost:9011 (LISTEN)\n",
      "slapd   120064 root    8u  IPv4 367042      0t0  TCP localhost:9011 (LISTEN)\n"
     ]
    }
   ],
   "source": [
    "! lsof -P -i -a -p `pidof slapd`"
   ]
  },
  {
   "cell_type": "code",
   "execution_count": 7,
   "metadata": {},
   "outputs": [
    {
     "name": "stdout",
     "output_type": "stream",
     "text": [
      "dn:\n",
      "objectClass: top\n",
      "objectClass: OpenLDAProotDSE\n",
      "\n"
     ]
    }
   ],
   "source": [
    "! ldapsearch -x -LLL -b \"\" -s base -H ldap://localhost:9011"
   ]
  },
  {
   "cell_type": "code",
   "execution_count": 8,
   "metadata": {},
   "outputs": [
    {
     "name": "stdout",
     "output_type": "stream",
     "text": [
      "dn: cn=Subschema\n",
      "objectClass: top\n",
      "objectClass: subentry\n",
      "objectClass: subschema\n",
      "objectClass: extensibleObject\n",
      "cn: Subschema\n",
      "\n"
     ]
    }
   ],
   "source": [
    "! ldapsearch -x -LLL -b \"cn=Subschema\" -s base -H ldap://localhost:9011 \\\n",
    "\t'(&(objectClasses=top)(objectClasses=2.5.6.0))' cn objectClass"
   ]
  },
  {
   "cell_type": "code",
   "execution_count": 9,
   "metadata": {},
   "outputs": [
    {
     "name": "stdout",
     "output_type": "stream",
     "text": [
      "dn: cn=Monitor\n",
      "objectClass: monitorServer\n",
      "cn: Monitor\n",
      "description: This subtree contains monitoring/managing objects.\n",
      "description: This object contains information about this server.\n",
      "description: Most of the information is held in operational attributes, which \n",
      " must be explicitly requested.\n",
      "monitoredInfo: OpenLDAP: slapd 2.6.6 (Jul 31 2023 00:00:00)\n",
      "\n"
     ]
    }
   ],
   "source": [
    "! ldapsearch -x -LLL -b \"cn=Monitor\" -s base -H ldap://localhost:9011 '@monitor'"
   ]
  }
 ],
 "metadata": {
  "kernelspec": {
   "display_name": "Python 3 (ipykernel)",
   "language": "python",
   "name": "python3"
  },
  "language_info": {
   "codemirror_mode": {
    "name": "ipython",
    "version": 3
   },
   "file_extension": ".py",
   "mimetype": "text/x-python",
   "name": "python",
   "nbconvert_exporter": "python",
   "pygments_lexer": "ipython3",
   "version": "3.12.2"
  }
 },
 "nbformat": 4,
 "nbformat_minor": 2
}
