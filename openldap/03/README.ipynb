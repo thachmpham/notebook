{
 "cells": [
  {
   "cell_type": "markdown",
   "metadata": {},
   "source": [
    "# Populate & Modify Database"
   ]
  },
  {
   "cell_type": "markdown",
   "metadata": {},
   "source": [
    "## 1. Populate database"
   ]
  },
  {
   "cell_type": "markdown",
   "metadata": {},
   "source": [
    "Line `directory db` in `slapd.conf` instructs slapd to populate and write database to `db` directory."
   ]
  },
  {
   "cell_type": "code",
   "execution_count": 1,
   "metadata": {},
   "outputs": [
    {
     "name": "stdout",
     "output_type": "stream",
     "text": [
      "total 0\n"
     ]
    }
   ],
   "source": [
    "# clean up db before populate\n",
    "! rm -f db/* && ls -lh db"
   ]
  },
  {
   "cell_type": "markdown",
   "metadata": {},
   "source": [
    "Validate `data.ldif` before populate it into database."
   ]
  },
  {
   "cell_type": "code",
   "execution_count": 2,
   "metadata": {},
   "outputs": [
    {
     "name": "stdout",
     "output_type": "stream",
     "text": [
      "add objectclass:\n",
      "\ttop\n",
      "\torganization\n",
      "\tdcobject\n",
      "add o:\n",
      "\tExample, Inc.\n",
      "add description:\n",
      "\tThe Example, Inc. at Anytown.\n",
      "!adding new entry \"dc=example,dc=com\"\n",
      "\n"
     ]
    }
   ],
   "source": [
    "! ldapadd -v -n -f data.ldif"
   ]
  },
  {
   "cell_type": "markdown",
   "metadata": {},
   "source": [
    "Populate database."
   ]
  },
  {
   "cell_type": "code",
   "execution_count": 3,
   "metadata": {},
   "outputs": [
    {
     "name": "stdout",
     "output_type": "stream",
     "text": [
      "Closing DB...\n"
     ]
    }
   ],
   "source": [
    "! slapd -Ta -f slapd.conf -l data.ldif"
   ]
  },
  {
   "cell_type": "markdown",
   "metadata": {},
   "source": [
    "Check `db` directory."
   ]
  },
  {
   "cell_type": "code",
   "execution_count": 4,
   "metadata": {},
   "outputs": [
    {
     "name": "stdout",
     "output_type": "stream",
     "text": [
      "total 36K\n",
      "-rw-------. 1 root root  32K Apr 21 13:00 data.mdb\n",
      "-rw-------. 1 root root 8.1K Apr 21 13:00 lock.mdb\n"
     ]
    }
   ],
   "source": [
    "! ls -lh db"
   ]
  },
  {
   "cell_type": "markdown",
   "metadata": {},
   "source": [
    "## 2. Start SLAPD"
   ]
  },
  {
   "cell_type": "markdown",
   "metadata": {},
   "source": [
    "Validate `slapd.conf` before starting SLAPD."
   ]
  },
  {
   "cell_type": "code",
   "execution_count": 5,
   "metadata": {},
   "outputs": [
    {
     "name": "stdout",
     "output_type": "stream",
     "text": [
      "config file testing succeeded\n"
     ]
    }
   ],
   "source": [
    "! slaptest -u -f slapd.conf"
   ]
  },
  {
   "cell_type": "markdown",
   "metadata": {},
   "source": [
    "Kill old SLAPD instances."
   ]
  },
  {
   "cell_type": "code",
   "execution_count": 6,
   "metadata": {},
   "outputs": [],
   "source": [
    "! killall slapd"
   ]
  },
  {
   "cell_type": "markdown",
   "metadata": {},
   "source": [
    "Start SLAPD."
   ]
  },
  {
   "cell_type": "code",
   "execution_count": 7,
   "metadata": {},
   "outputs": [],
   "source": [
    "! slapd -f slapd.conf -h ldap://localhost:9011 "
   ]
  },
  {
   "cell_type": "markdown",
   "metadata": {},
   "source": [
    "Check if SLAPD is running."
   ]
  },
  {
   "cell_type": "code",
   "execution_count": 8,
   "metadata": {},
   "outputs": [
    {
     "name": "stdout",
     "output_type": "stream",
     "text": [
      "slapd     131265            root    7u  IPv6 506575      0t0  TCP [::1]:9011 (LISTEN)\n",
      "slapd     131265            root    8u  IPv4 506576      0t0  TCP 127.0.0.1:9011 (LISTEN)\n"
     ]
    }
   ],
   "source": [
    "! lsof -P -i -n | grep slapd"
   ]
  },
  {
   "cell_type": "markdown",
   "metadata": {},
   "source": [
    "## 3. Search"
   ]
  },
  {
   "cell_type": "code",
   "execution_count": 9,
   "metadata": {},
   "outputs": [
    {
     "name": "stdout",
     "output_type": "stream",
     "text": [
      "dn: dc=example,dc=com\n",
      "objectClass: top\n",
      "objectClass: organization\n",
      "objectClass: dcobject\n",
      "o: Example, Inc.\n",
      "description: The Example, Inc. at Anytown.\n",
      "dc: example\n",
      "\n"
     ]
    }
   ],
   "source": [
    "! ldapsearch -x -H ldap://localhost:9011 -LLL -b 'dc=example,dc=com'"
   ]
  },
  {
   "cell_type": "markdown",
   "metadata": {},
   "source": [
    "## 4. Modify"
   ]
  },
  {
   "cell_type": "markdown",
   "metadata": {},
   "source": [
    "Validate `modify.ldif` before applying it to database."
   ]
  },
  {
   "cell_type": "code",
   "execution_count": 10,
   "metadata": {},
   "outputs": [
    {
     "name": "stdout",
     "output_type": "stream",
     "text": [
      "replace description:\n",
      "\tThe Example, Inc. at Mytown.\n",
      "!modifying entry \"dc=example,dc=com\"\n",
      "\n"
     ]
    }
   ],
   "source": [
    "! ldapmodify -v -n -f modify.ldif"
   ]
  },
  {
   "cell_type": "markdown",
   "metadata": {},
   "source": [
    "Modify database."
   ]
  },
  {
   "cell_type": "code",
   "execution_count": 11,
   "metadata": {},
   "outputs": [
    {
     "name": "stdout",
     "output_type": "stream",
     "text": [
      "modifying entry \"dc=example,dc=com\"\n",
      "\n"
     ]
    }
   ],
   "source": [
    "! ldapmodify -x -H ldap://localhost:9011 -D cn=Manager,dc=example,dc=com -w secret -f modify.ldif"
   ]
  },
  {
   "cell_type": "markdown",
   "metadata": {},
   "source": [
    "Validate changes."
   ]
  },
  {
   "cell_type": "code",
   "execution_count": 12,
   "metadata": {},
   "outputs": [
    {
     "name": "stdout",
     "output_type": "stream",
     "text": [
      "dn: dc=example,dc=com\n",
      "objectClass: top\n",
      "objectClass: organization\n",
      "objectClass: dcobject\n",
      "o: Example, Inc.\n",
      "dc: example\n",
      "description: The Example, Inc. at Mytown.\n",
      "\n"
     ]
    }
   ],
   "source": [
    "! ldapsearch -x -H ldap://localhost:9011 -LLL -b 'dc=example,dc=com'"
   ]
  }
 ],
 "metadata": {
  "kernelspec": {
   "display_name": "Python 3 (ipykernel)",
   "language": "python",
   "name": "python3"
  },
  "language_info": {
   "codemirror_mode": {
    "name": "ipython",
    "version": 3
   },
   "file_extension": ".py",
   "mimetype": "text/x-python",
   "name": "python",
   "nbconvert_exporter": "python",
   "pygments_lexer": "ipython3",
   "version": "3.12.2"
  }
 },
 "nbformat": 4,
 "nbformat_minor": 2
}
