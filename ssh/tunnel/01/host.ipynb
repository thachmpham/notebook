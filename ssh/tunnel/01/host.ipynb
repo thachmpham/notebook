{
 "cells": [
  {
   "cell_type": "code",
   "execution_count": 3,
   "metadata": {},
   "outputs": [
    {
     "name": "stdout",
     "output_type": "stream",
     "text": [
      "bridge102: flags=8863<UP,BROADCAST,SMART,RUNNING,SIMPLEX,MULTICAST> mtu 1500\n",
      "\toptions=3<RXCSUM,TXCSUM>\n",
      "\tether 1e:57:dc:c6:ee:66 \n",
      "\tinet 172.16.111.1 netmask 0xffffff00 broadcast 172.16.111.255\n",
      "\tinet6 fe80::1c57:dcff:fec6:ee66%bridge102 prefixlen 64 scopeid 0x19 \n",
      "\tConfiguration:\n",
      "\t\tid 0:0:0:0:0:0 priority 0 hellotime 0 fwddelay 0\n",
      "\t\tmaxage 0 holdcnt 0 proto stp maxaddr 100 timeout 1200\n",
      "\t\troot id 0:0:0:0:0:0 priority 0 ifcost 0 port 0\n",
      "\t\tipfilter disabled flags 0x0\n",
      "\tmember: vmenet2 flags=3<LEARNING,DISCOVER>\n",
      "\t        ifmaxaddr 0 port 24 priority 0 path cost 0\n",
      "\tmember: vmenet3 flags=3<LEARNING,DISCOVER>\n",
      "\t        ifmaxaddr 0 port 26 priority 0 path cost 0\n",
      "\tmember: vmenet4 flags=3<LEARNING,DISCOVER>\n",
      "\t        ifmaxaddr 0 port 27 priority 0 path cost 0\n",
      "\tAddress cache:\n",
      "\t\t0:50:56:e2:72:f9 Vlan1 vmenet2 1144 flags=0<>\n",
      "\t\t0:50:56:e2:af:38 Vlan1 vmenet3 518 flags=0<>\n",
      "\t\t0:c:29:d4:4e:ab Vlan1 vmenet4 1144 flags=0<>\n",
      "\tnd6 options=201<PERFORMNUD,DAD>\n",
      "\tmedia: autoselect\n",
      "\tstatus: active\n"
     ]
    }
   ],
   "source": [
    "# host\n",
    "! ifconfig bridge102"
   ]
  },
  {
   "cell_type": "code",
   "execution_count": null,
   "metadata": {},
   "outputs": [],
   "source": []
  },
  {
   "cell_type": "code",
   "execution_count": null,
   "metadata": {},
   "outputs": [
    {
     "ename": "",
     "evalue": "",
     "output_type": "error",
     "traceback": [
      "\u001b[1;31mRunning cells with 'Python 3.12.0' requires the ipykernel package.\n",
      "\u001b[1;31mRun the following command to install 'ipykernel' into the Python environment. \n",
      "\u001b[1;31mCommand: '/opt/homebrew/bin/python3.12 -m pip install ipykernel -U --user --force-reinstall'"
     ]
    }
   ],
   "source": [
    "! /opt/homebrew/bin/python3.12 -m pip install ipykernel -U --user --force-reinstall"
   ]
  }
 ],
 "metadata": {
  "kernelspec": {
   "display_name": "Python 3",
   "language": "python",
   "name": "python3"
  },
  "language_info": {
   "codemirror_mode": {
    "name": "ipython",
    "version": 3
   },
   "file_extension": ".py",
   "mimetype": "text/x-python",
   "name": "python",
   "nbconvert_exporter": "python",
   "pygments_lexer": "ipython3",
   "version": "3.11.4"
  }
 },
 "nbformat": 4,
 "nbformat_minor": 2
}
