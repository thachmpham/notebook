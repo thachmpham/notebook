{
 "cells": [
  {
   "cell_type": "code",
   "execution_count": 1,
   "metadata": {},
   "outputs": [
    {
     "name": "stdout",
     "output_type": "stream",
     "text": [
      "/root/notebook/tools/openldap/01\n"
     ]
    }
   ],
   "source": [
    "! pwd"
   ]
  },
  {
   "cell_type": "code",
   "execution_count": 3,
   "metadata": {},
   "outputs": [],
   "source": [
    "! slapd -s0 -f slapd.conf -h ldap://localhost:9011/"
   ]
  },
  {
   "cell_type": "code",
   "execution_count": 8,
   "metadata": {},
   "outputs": [
    {
     "name": "stdout",
     "output_type": "stream",
     "text": [
      "LISTEN 0      2048       127.0.0.1:9011       0.0.0.0:*          \n",
      "LISTEN 0      2048           [::1]:9011          [::]:*          \n"
     ]
    }
   ],
   "source": [
    "! ss -ntl | grep 9011"
   ]
  },
  {
   "cell_type": "code",
   "execution_count": 10,
   "metadata": {},
   "outputs": [
    {
     "name": "stdout",
     "output_type": "stream",
     "text": [
      "# extended LDIF\n",
      "#\n",
      "# LDAPv3\n",
      "# base <> with scope baseObject\n",
      "# filter: (objectclass=*)\n",
      "# requesting: ALL\n",
      "#\n",
      "\n",
      "#\n",
      "dn:\n",
      "objectClass: top\n",
      "objectClass: OpenLDAProotDSE\n",
      "\n",
      "# search result\n",
      "search: 2\n",
      "result: 0 Success\n",
      "\n",
      "# numResponses: 2\n",
      "# numEntries: 1\n"
     ]
    }
   ],
   "source": [
    "! ldapsearch -x -b \"\" -s base -H ldap://localhost:9011"
   ]
  },
  {
   "cell_type": "code",
   "execution_count": 11,
   "metadata": {},
   "outputs": [
    {
     "name": "stdout",
     "output_type": "stream",
     "text": [
      "# extended LDIF\n",
      "#\n",
      "# LDAPv3\n",
      "# base <cn=Subschema> with scope baseObject\n",
      "# filter: (&(objectClasses=top)(objectClasses=2.5.6.0))\n",
      "# requesting: cn objectClass \n",
      "#\n",
      "\n",
      "# Subschema\n",
      "dn: cn=Subschema\n",
      "objectClass: top\n",
      "objectClass: subentry\n",
      "objectClass: subschema\n",
      "objectClass: extensibleObject\n",
      "cn: Subschema\n",
      "\n",
      "# search result\n",
      "search: 2\n",
      "result: 0 Success\n",
      "\n",
      "# numResponses: 2\n",
      "# numEntries: 1\n"
     ]
    }
   ],
   "source": [
    "! ldapsearch -x -b \"cn=Subschema\" -s base -H ldap://localhost:9011 \\\n",
    "\t'(&(objectClasses=top)(objectClasses=2.5.6.0))' cn objectClass"
   ]
  },
  {
   "cell_type": "code",
   "execution_count": 3,
   "metadata": {},
   "outputs": [
    {
     "name": "stdout",
     "output_type": "stream",
     "text": [
      "# extended LDIF\n",
      "#\n",
      "# LDAPv3\n",
      "# base <cn=Monitor> with scope baseObject\n",
      "# filter: (objectclass=*)\n",
      "# requesting: @monitor \n",
      "#\n",
      "\n",
      "# Monitor\n",
      "dn: cn=Monitor\n",
      "objectClass: monitorServer\n",
      "cn: Monitor\n",
      "description: This subtree contains monitoring/managing objects.\n",
      "description: This object contains information about this server.\n",
      "description: Most of the information is held in operational attributes, which \n",
      " must be explicitly requested.\n",
      "monitoredInfo: OpenLDAP: slapd 2.6.6 (Jul 31 2023 00:00:00)\n",
      "\n",
      "# search result\n",
      "search: 2\n",
      "result: 0 Success\n",
      "\n",
      "# numResponses: 2\n",
      "# numEntries: 1\n"
     ]
    }
   ],
   "source": [
    "! ldapsearch -x -b \"cn=Monitor\" -s base -H ldap://localhost:9011 '@monitor'"
   ]
  }
 ],
 "metadata": {
  "kernelspec": {
   "display_name": "Python 3 (ipykernel)",
   "language": "python",
   "name": "python3"
  },
  "language_info": {
   "codemirror_mode": {
    "name": "ipython",
    "version": 3
   },
   "file_extension": ".py",
   "mimetype": "text/x-python",
   "name": "python",
   "nbconvert_exporter": "python",
   "pygments_lexer": "ipython3",
   "version": "3.12.2"
  }
 },
 "nbformat": 4,
 "nbformat_minor": 2
}
