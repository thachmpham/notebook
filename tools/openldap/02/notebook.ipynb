{
 "cells": [
  {
   "cell_type": "code",
   "execution_count": 97,
   "metadata": {},
   "outputs": [
    {
     "name": "stdout",
     "output_type": "stream",
     "text": [
      "/root/notebook/tools/openldap/02\n"
     ]
    }
   ],
   "source": [
    "! pwd"
   ]
  },
  {
   "cell_type": "code",
   "execution_count": 98,
   "metadata": {},
   "outputs": [
    {
     "name": "stdout",
     "output_type": "stream",
     "text": [
      ".\n",
      "./slapd.conf\n",
      "./test.schema\n",
      "./db\n",
      "./db/lock.mdb\n",
      "./db/data.mdb\n",
      "./notebook.ipynb\n",
      "./data.ldif\n",
      "./slapd.pid\n",
      "./slapd.args\n"
     ]
    }
   ],
   "source": [
    "! find ."
   ]
  },
  {
   "cell_type": "code",
   "execution_count": 99,
   "metadata": {},
   "outputs": [],
   "source": [
    "! rm -f db/*"
   ]
  },
  {
   "cell_type": "code",
   "execution_count": 100,
   "metadata": {},
   "outputs": [],
   "source": [
    "! killall slapd"
   ]
  },
  {
   "cell_type": "code",
   "execution_count": 101,
   "metadata": {},
   "outputs": [],
   "source": [
    "# slapd -f slapd.conf -h ldap://localhost:9011/ -d 0x4105\n",
    "! slapd -f slapd.conf -h ldap://localhost:9011/"
   ]
  },
  {
   "cell_type": "code",
   "execution_count": 102,
   "metadata": {},
   "outputs": [
    {
     "name": "stdout",
     "output_type": "stream",
     "text": [
      "COMMAND    PID USER   FD   TYPE DEVICE SIZE/OFF NODE NAME\n",
      "slapd   119419 root    7u  IPv6 359981      0t0  TCP localhost:9011 (LISTEN)\n",
      "slapd   119419 root    8u  IPv4 359982      0t0  TCP localhost:9011 (LISTEN)\n"
     ]
    }
   ],
   "source": [
    "! lsof -P -i -a -p `pidof slapd`"
   ]
  },
  {
   "cell_type": "code",
   "execution_count": 104,
   "metadata": {},
   "outputs": [
    {
     "name": "stdout",
     "output_type": "stream",
     "text": [
      "adding new entry \"dc=example,dc=com\"\n",
      "\n",
      "adding new entry \"ou=People,dc=example,dc=com\"\n",
      "\n",
      "adding new entry \"ou=Groups,dc=example,dc=com\"\n",
      "\n",
      "adding new entry \"ou=Alumni Association,ou=People,dc=example,dc=com\"\n",
      "\n",
      "adding new entry \"ou=Information Technology Division,ou=People,dc=example,dc=com\"\n",
      "\n",
      "adding new entry \"cn=All Staff,ou=Groups,dc=example,dc=com\"\n",
      "\n",
      "adding new entry \"cn=Alumni Assoc Staff,ou=Groups,dc=example,dc=com\"\n",
      "\n",
      "adding new entry \"cn=Barbara Jensen,ou=Information Technology Division,ou=People,dc=example,dc=com\"\n",
      "\n",
      "adding new entry \"cn=Bjorn Jensen,ou=Information Technology Division,ou=People,dc=example,dc=com\"\n",
      "\n",
      "adding new entry \"cn=Dorothy Stevens,ou=Alumni Association,ou=People,dc=example,dc=com\"\n",
      "\n",
      "adding new entry \"cn=ITD Staff,ou=Groups,dc=example,dc=com\"\n",
      "\n",
      "adding new entry \"cn=James A Jones 1,ou=Alumni Association,ou=People,dc=example,dc=com\"\n",
      "\n",
      "adding new entry \"cn=James A Jones 2,ou=Information Technology Division,ou=People,dc=example,dc=com\"\n",
      "\n",
      "adding new entry \"cn=Jane Doe,ou=Alumni Association,ou=People,dc=example,dc=com\"\n",
      "\n",
      "adding new entry \"cn=Jennifer Smith,ou=Alumni Association,ou=People,dc=example,dc=com\"\n",
      "\n",
      "adding new entry \"cn=John Doe,ou=Information Technology Division,ou=People,dc=example,dc=com\"\n",
      "\n",
      "adding new entry \"cn=Manager,dc=example,dc=com\"\n",
      "\n",
      "adding new entry \"cn=Mark Elliot,ou=Alumni Association,ou=People,dc=example,dc=com\"\n",
      "\n",
      "adding new entry \"cn=Ursula Hampster,ou=Alumni Association,ou=People,dc=example,dc=com\"\n",
      "\n"
     ]
    }
   ],
   "source": [
    "! ldapmodify -a -P 3 -x  -D 'cn=Manager,dc=example,dc=com' -H ldap://localhost:9011/ -w secret -f data.ldif"
   ]
  },
  {
   "cell_type": "code",
   "execution_count": 103,
   "metadata": {},
   "outputs": [
    {
     "name": "stdout",
     "output_type": "stream",
     "text": [
      "No such object (32)\n"
     ]
    }
   ],
   "source": [
    "! ldapsearch -x -LLL -b \"dc=example,dc=com\" -H ldap://localhost:9011"
   ]
  }
 ],
 "metadata": {
  "kernelspec": {
   "display_name": "Python 3 (ipykernel)",
   "language": "python",
   "name": "python3"
  },
  "language_info": {
   "codemirror_mode": {
    "name": "ipython",
    "version": 3
   },
   "file_extension": ".py",
   "mimetype": "text/x-python",
   "name": "python",
   "nbconvert_exporter": "python",
   "pygments_lexer": "ipython3",
   "version": "3.12.2"
  }
 },
 "nbformat": 4,
 "nbformat_minor": 2
}
